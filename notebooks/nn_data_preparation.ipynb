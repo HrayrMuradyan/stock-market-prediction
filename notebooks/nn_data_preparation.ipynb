{
 "cells": [
  {
   "cell_type": "code",
   "execution_count": 1,
   "id": "1addaf3a-49cc-46c8-9794-59bfb26bd7e1",
   "metadata": {},
   "outputs": [],
   "source": [
    "from pathlib import Path\n",
    "import pandas as pd\n",
    "import sys\n",
    "import os\n",
    "import torch\n",
    "import numpy as np\n",
    "\n",
    "current_dir = os.getcwd()\n",
    "parent_dir = os.path.abspath(os.path.join(current_dir, \"..\"))\n",
    "sys.path.append(parent_dir)"
   ]
  },
  {
   "cell_type": "code",
   "execution_count": 2,
   "id": "8d4c3f03-e8b3-48f2-ab95-9a767da6ae11",
   "metadata": {},
   "outputs": [],
   "source": [
    "from src.data_extractor.stocks import read_and_concat_all_stocks\n",
    "from src.training.preparation import (\n",
    "    time_series_train_test_split,\n",
    "    separate_the_target_column,\n",
    "    prepare_nn_multistep_dataset\n",
    ")\n",
    "from src.training.feature_engineering import add_date_as_feature, add_lagged_features"
   ]
  },
  {
   "cell_type": "code",
   "execution_count": 3,
   "id": "4175b6ef-5a16-4c11-9dc7-34894750a75c",
   "metadata": {},
   "outputs": [],
   "source": [
    "data_folder = \"../data/\"\n",
    "data_folder_path = Path(data_folder)\n",
    "\n",
    "target_stocks = [\n",
    "    \"AAPL\",\n",
    "    \"GOOGL\",\n",
    "    \"AMZN\",\n",
    "    \"TSLA\",\n",
    "    \"NVDA\",\n",
    "    \"MSFT\",\n",
    "    \"META\"\n",
    "]\n",
    "\n",
    "target_column = \"AAPL\"\n",
    "n_lags = 3\n",
    "output_size = 5\n",
    "validation_size = 30"
   ]
  },
  {
   "cell_type": "code",
   "execution_count": 4,
   "id": "a05b1da9-4bfa-496c-953f-0e9ca36d99b7",
   "metadata": {},
   "outputs": [
    {
     "data": {
      "text/plain": [
       "(3909, 424)"
      ]
     },
     "execution_count": 4,
     "metadata": {},
     "output_type": "execute_result"
    }
   ],
   "source": [
    "data = read_and_concat_all_stocks(data_folder_path)\n",
    "data.shape"
   ]
  },
  {
   "cell_type": "code",
   "execution_count": 5,
   "id": "8a796e8b-32ef-457b-bb8e-3b673371869e",
   "metadata": {},
   "outputs": [
    {
     "data": {
      "text/plain": [
       "(3909, 427)"
      ]
     },
     "execution_count": 5,
     "metadata": {},
     "output_type": "execute_result"
    }
   ],
   "source": [
    "data = add_date_as_feature(data)\n",
    "data.shape"
   ]
  },
  {
   "cell_type": "code",
   "execution_count": 6,
   "id": "4f39a349-17e6-4ccd-93b3-8852674aea47",
   "metadata": {},
   "outputs": [
    {
     "data": {
      "text/plain": [
       "(3906, 1282)"
      ]
     },
     "execution_count": 6,
     "metadata": {},
     "output_type": "execute_result"
    }
   ],
   "source": [
    "data_lagged = add_lagged_features(data, target_column, n_lags=n_lags)\n",
    "data_lagged.shape"
   ]
  },
  {
   "cell_type": "code",
   "execution_count": 7,
   "id": "fda1df73-10ca-483c-afb0-ee536400d311",
   "metadata": {},
   "outputs": [],
   "source": [
    "X, y = separate_the_target_column(data_lagged, target_column=target_column)"
   ]
  },
  {
   "cell_type": "code",
   "execution_count": 8,
   "id": "1bce17eb-dfe1-46d9-8fde-900f44ed2748",
   "metadata": {},
   "outputs": [
    {
     "name": "stdout",
     "output_type": "stream",
     "text": [
      "Feature dataset size: (3906, 1281)\n",
      "Target size: (3906,)\n"
     ]
    }
   ],
   "source": [
    "print(f\"Feature dataset size: {X.shape}\")\n",
    "print(f\"Target size: {y.shape}\")"
   ]
  },
  {
   "cell_type": "code",
   "execution_count": 136,
   "id": "2c019ade-0926-4a3c-b16e-368614f11951",
   "metadata": {},
   "outputs": [],
   "source": [
    "X_train_raw, X_valid_raw, y_train_raw, y_valid_raw = time_series_train_test_split(X=X,\n",
    "                                                                                  y=y,\n",
    "                                                                                  validation_window=validation_size)"
   ]
  },
  {
   "cell_type": "code",
   "execution_count": 137,
   "id": "c8e5602b-1849-45bd-bf9d-6a8fbe2ca180",
   "metadata": {},
   "outputs": [
    {
     "name": "stdout",
     "output_type": "stream",
     "text": [
      "X_train_raw data shape: (3876, 1281)\n",
      "X_valid_raw data shape: (30, 1281)\n",
      "y_train_raw data shape: (3876,)\n",
      "y_valid_raw data shape: (30,)\n"
     ]
    }
   ],
   "source": [
    "print(f\"X_train_raw data shape: {X_train_raw.shape}\")\n",
    "print(f\"X_valid_raw data shape: {X_valid_raw.shape}\")\n",
    "print(f\"y_train_raw data shape: {y_train_raw.shape}\")\n",
    "print(f\"y_valid_raw data shape: {y_valid_raw.shape}\")"
   ]
  },
  {
   "cell_type": "code",
   "execution_count": 138,
   "id": "81e7fecb-fa91-4410-a5ba-ff046c7acecb",
   "metadata": {},
   "outputs": [],
   "source": [
    "X_train, y_train = prepare_nn_multistep_dataset(X_train_raw, y_train_raw, prediction_window=output_size)\n",
    "X_valid, y_valid = prepare_nn_multistep_dataset(X_valid_raw, y_valid_raw, prediction_window=output_size)"
   ]
  },
  {
   "cell_type": "code",
   "execution_count": 139,
   "id": "d4c0d3f2-b0d5-4020-a620-8482c25e325b",
   "metadata": {},
   "outputs": [
    {
     "name": "stdout",
     "output_type": "stream",
     "text": [
      "X_train processed data shape: torch.Size([3876, 1281])\n",
      "X_valid processed data shape: torch.Size([30, 1281])\n",
      "y_train processed data shape: torch.Size([3876, 5])\n",
      "y_valid processed data shape: torch.Size([30, 5])\n"
     ]
    }
   ],
   "source": [
    "print(f\"X_train processed data shape: {X_train.shape}\")\n",
    "print(f\"X_valid processed data shape: {X_valid.shape}\")\n",
    "print(f\"y_train processed data shape: {y_train.shape}\")\n",
    "print(f\"y_valid processed data shape: {y_valid.shape}\")"
   ]
  },
  {
   "cell_type": "code",
   "execution_count": 140,
   "id": "d30a1160-70e7-483b-9d6e-195627b3fbad",
   "metadata": {},
   "outputs": [],
   "source": [
    "# Get the input size\n",
    "input_size = X_train.shape[1]\n",
    "hidden_dim = 256\n",
    "learning_rate = 0.0001\n",
    "batch_size=128\n",
    "n_epochs = 100"
   ]
  },
  {
   "cell_type": "code",
   "execution_count": 141,
   "id": "95fc43f2-3dce-4453-96ac-0d99db159856",
   "metadata": {},
   "outputs": [],
   "source": [
    "from src.training.models import FeedforwardRegressor\n",
    "from src.training.loss_functions import masked_mse_loss\n",
    "from src.training.trainers import trainer\n",
    "\n",
    "from torch.utils.data import DataLoader, TensorDataset"
   ]
  },
  {
   "cell_type": "code",
   "execution_count": 142,
   "id": "01d38883-764b-4b2c-9c38-f0c8dd19bb0b",
   "metadata": {
    "scrolled": true
   },
   "outputs": [],
   "source": [
    "device = torch.device('cuda' if torch.cuda.is_available() else 'cpu')\n",
    "\n",
    "# Wrap training data into a DataLoader\n",
    "train_dataset = TensorDataset(X_train, y_train)\n",
    "train_loader = DataLoader(train_dataset, batch_size=batch_size, shuffle=True)"
   ]
  },
  {
   "cell_type": "code",
   "execution_count": 143,
   "id": "2def19a6-9c9f-490a-8e01-7412f683a791",
   "metadata": {
    "scrolled": true
   },
   "outputs": [],
   "source": [
    "# Initialize model and optimizer\n",
    "model = FeedforwardRegressor(input_dim=input_size,\n",
    "                             output_dim=output_size,\n",
    "                             hidden_dim=hidden_dim).to(device)\n",
    "\n",
    "optimizer = torch.optim.Adam(model.parameters(), lr=learning_rate)"
   ]
  },
  {
   "cell_type": "code",
   "execution_count": 144,
   "id": "0849cc4e-ab1a-46f5-bd17-304dee4e3ee9",
   "metadata": {},
   "outputs": [
    {
     "name": "stdout",
     "output_type": "stream",
     "text": [
      "Epoch 1/100 - Train Loss: 1524.6130 - Val Loss: 241.7293\n",
      "Epoch 2/100 - Train Loss: 206.8188 - Val Loss: 544.5618\n",
      "Epoch 3/100 - Train Loss: 111.5867 - Val Loss: 407.3692\n",
      "Epoch 4/100 - Train Loss: 89.1599 - Val Loss: 253.5066\n",
      "Epoch 5/100 - Train Loss: 78.3608 - Val Loss: 278.7504\n",
      "Epoch 6/100 - Train Loss: 70.4306 - Val Loss: 288.0944\n",
      "Epoch 7/100 - Train Loss: 67.0911 - Val Loss: 260.8861\n",
      "Epoch 8/100 - Train Loss: 63.4435 - Val Loss: 302.1012\n",
      "Epoch 9/100 - Train Loss: 61.0647 - Val Loss: 151.7528\n",
      "Epoch 10/100 - Train Loss: 59.4385 - Val Loss: 261.3135\n",
      "Epoch 11/100 - Train Loss: 57.2567 - Val Loss: 143.6708\n",
      "Epoch 12/100 - Train Loss: 53.7643 - Val Loss: 202.1446\n",
      "Epoch 13/100 - Train Loss: 51.7330 - Val Loss: 207.3183\n",
      "Epoch 14/100 - Train Loss: 49.3818 - Val Loss: 264.1301\n",
      "Epoch 15/100 - Train Loss: 48.8858 - Val Loss: 237.9239\n",
      "Epoch 16/100 - Train Loss: 47.2163 - Val Loss: 210.1494\n",
      "Epoch 17/100 - Train Loss: 45.9791 - Val Loss: 160.9554\n",
      "Epoch 18/100 - Train Loss: 43.4654 - Val Loss: 336.5087\n",
      "Epoch 19/100 - Train Loss: 42.4225 - Val Loss: 162.4146\n",
      "Epoch 20/100 - Train Loss: 40.3277 - Val Loss: 140.2834\n",
      "Epoch 21/100 - Train Loss: 38.8729 - Val Loss: 169.3523\n",
      "Epoch 22/100 - Train Loss: 39.3053 - Val Loss: 134.2634\n",
      "Epoch 23/100 - Train Loss: 38.1441 - Val Loss: 308.7551\n",
      "Epoch 24/100 - Train Loss: 35.3872 - Val Loss: 277.5696\n",
      "Epoch 25/100 - Train Loss: 33.6554 - Val Loss: 210.3576\n",
      "Epoch 26/100 - Train Loss: 32.3069 - Val Loss: 202.9214\n",
      "Epoch 27/100 - Train Loss: 34.3982 - Val Loss: 365.8467\n",
      "Epoch 28/100 - Train Loss: 32.6512 - Val Loss: 192.4075\n",
      "Epoch 29/100 - Train Loss: 28.4988 - Val Loss: 144.5875\n",
      "Epoch 30/100 - Train Loss: 29.2654 - Val Loss: 189.4237\n",
      "Epoch 31/100 - Train Loss: 28.5208 - Val Loss: 236.8193\n",
      "Epoch 32/100 - Train Loss: 25.3521 - Val Loss: 188.9977\n",
      "Epoch 33/100 - Train Loss: 23.8611 - Val Loss: 248.6727\n",
      "Epoch 34/100 - Train Loss: 24.0376 - Val Loss: 107.3199\n",
      "Epoch 35/100 - Train Loss: 21.8319 - Val Loss: 171.7513\n",
      "Epoch 36/100 - Train Loss: 22.7885 - Val Loss: 184.3548\n",
      "Epoch 37/100 - Train Loss: 21.1013 - Val Loss: 196.9689\n",
      "Epoch 38/100 - Train Loss: 21.5022 - Val Loss: 123.6660\n",
      "Epoch 39/100 - Train Loss: 19.7861 - Val Loss: 177.0156\n",
      "Epoch 40/100 - Train Loss: 18.1428 - Val Loss: 99.7057\n",
      "Epoch 41/100 - Train Loss: 17.5668 - Val Loss: 125.6820\n",
      "Epoch 42/100 - Train Loss: 20.6877 - Val Loss: 104.9115\n",
      "Epoch 43/100 - Train Loss: 17.4065 - Val Loss: 171.6547\n",
      "Epoch 44/100 - Train Loss: 16.1770 - Val Loss: 112.2695\n",
      "Epoch 45/100 - Train Loss: 16.0242 - Val Loss: 78.4553\n",
      "Epoch 46/100 - Train Loss: 15.9099 - Val Loss: 156.2114\n",
      "Epoch 47/100 - Train Loss: 15.6602 - Val Loss: 62.5852\n",
      "Epoch 48/100 - Train Loss: 14.6974 - Val Loss: 137.6532\n",
      "Epoch 49/100 - Train Loss: 16.2835 - Val Loss: 79.0786\n",
      "Epoch 50/100 - Train Loss: 15.7310 - Val Loss: 33.8800\n",
      "Epoch 51/100 - Train Loss: 17.4928 - Val Loss: 100.5275\n",
      "Epoch 52/100 - Train Loss: 15.2970 - Val Loss: 40.5123\n",
      "Epoch 53/100 - Train Loss: 14.2667 - Val Loss: 170.7342\n",
      "Epoch 54/100 - Train Loss: 13.6724 - Val Loss: 49.2509\n",
      "Epoch 55/100 - Train Loss: 15.3024 - Val Loss: 36.5808\n",
      "Epoch 56/100 - Train Loss: 13.6114 - Val Loss: 55.7882\n",
      "Epoch 57/100 - Train Loss: 13.5107 - Val Loss: 84.8495\n",
      "Epoch 58/100 - Train Loss: 12.4539 - Val Loss: 68.4711\n",
      "Epoch 59/100 - Train Loss: 12.3970 - Val Loss: 108.5647\n",
      "Epoch 60/100 - Train Loss: 15.8027 - Val Loss: 169.4996\n",
      "Epoch 61/100 - Train Loss: 13.7858 - Val Loss: 138.8412\n",
      "Epoch 62/100 - Train Loss: 12.6229 - Val Loss: 36.8337\n",
      "Epoch 63/100 - Train Loss: 14.0529 - Val Loss: 30.5477\n",
      "Epoch 64/100 - Train Loss: 13.0699 - Val Loss: 131.3417\n",
      "Epoch 65/100 - Train Loss: 13.1135 - Val Loss: 120.7853\n",
      "Epoch 66/100 - Train Loss: 13.2498 - Val Loss: 53.7851\n",
      "Epoch 67/100 - Train Loss: 11.3981 - Val Loss: 64.3481\n",
      "Epoch 68/100 - Train Loss: 14.6040 - Val Loss: 27.8463\n",
      "Epoch 69/100 - Train Loss: 13.0141 - Val Loss: 79.1644\n",
      "Epoch 70/100 - Train Loss: 12.4397 - Val Loss: 91.9166\n",
      "Epoch 71/100 - Train Loss: 11.7461 - Val Loss: 44.4489\n",
      "Epoch 72/100 - Train Loss: 12.5851 - Val Loss: 52.4722\n",
      "Epoch 73/100 - Train Loss: 13.0038 - Val Loss: 76.8568\n",
      "Epoch 74/100 - Train Loss: 12.0492 - Val Loss: 53.0858\n",
      "Epoch 75/100 - Train Loss: 12.1719 - Val Loss: 37.0554\n",
      "Epoch 76/100 - Train Loss: 11.0400 - Val Loss: 99.1802\n",
      "Epoch 77/100 - Train Loss: 11.8063 - Val Loss: 74.2548\n",
      "Epoch 78/100 - Train Loss: 10.8576 - Val Loss: 50.3376\n",
      "Epoch 79/100 - Train Loss: 12.5675 - Val Loss: 30.1919\n",
      "Epoch 80/100 - Train Loss: 11.9803 - Val Loss: 26.6174\n",
      "Epoch 81/100 - Train Loss: 10.1862 - Val Loss: 26.3803\n",
      "Epoch 82/100 - Train Loss: 11.1716 - Val Loss: 25.6932\n",
      "Epoch 83/100 - Train Loss: 12.4179 - Val Loss: 78.2066\n",
      "Epoch 84/100 - Train Loss: 13.6972 - Val Loss: 55.7125\n",
      "Epoch 85/100 - Train Loss: 11.4843 - Val Loss: 17.4250\n",
      "Epoch 86/100 - Train Loss: 13.0490 - Val Loss: 27.4712\n",
      "Epoch 87/100 - Train Loss: 12.1527 - Val Loss: 59.9365\n",
      "Epoch 88/100 - Train Loss: 11.0217 - Val Loss: 40.4601\n",
      "Epoch 89/100 - Train Loss: 11.3945 - Val Loss: 103.7353\n",
      "Epoch 90/100 - Train Loss: 10.2646 - Val Loss: 61.0543\n",
      "Epoch 91/100 - Train Loss: 11.0042 - Val Loss: 71.5833\n",
      "Epoch 92/100 - Train Loss: 11.0533 - Val Loss: 41.4465\n",
      "Epoch 93/100 - Train Loss: 10.6185 - Val Loss: 79.7558\n",
      "Epoch 94/100 - Train Loss: 11.2694 - Val Loss: 42.2068\n",
      "Epoch 95/100 - Train Loss: 10.5136 - Val Loss: 15.2016\n",
      "Epoch 96/100 - Train Loss: 13.8225 - Val Loss: 78.0671\n",
      "Epoch 97/100 - Train Loss: 10.4867 - Val Loss: 31.3864\n",
      "Epoch 98/100 - Train Loss: 13.1156 - Val Loss: 17.4851\n",
      "Epoch 99/100 - Train Loss: 10.9626 - Val Loss: 118.8002\n",
      "Epoch 100/100 - Train Loss: 11.0412 - Val Loss: 123.3247\n"
     ]
    },
    {
     "data": {
      "text/plain": [
       "FeedforwardRegressor(\n",
       "  (model): Sequential(\n",
       "    (0): Linear(in_features=1281, out_features=256, bias=True)\n",
       "    (1): ReLU()\n",
       "    (2): Linear(in_features=256, out_features=128, bias=True)\n",
       "    (3): ReLU()\n",
       "    (4): Linear(in_features=128, out_features=5, bias=True)\n",
       "  )\n",
       ")"
      ]
     },
     "execution_count": 144,
     "metadata": {},
     "output_type": "execute_result"
    }
   ],
   "source": [
    "trainer(model=model,\n",
    "        train_loader=train_loader,\n",
    "        X_valid=X_valid,\n",
    "        y_valid=y_valid,\n",
    "        optimizer=optimizer,\n",
    "        loss_fn=masked_mse_loss,\n",
    "        n_epochs=n_epochs,\n",
    "        device=device\n",
    ")"
   ]
  },
  {
   "cell_type": "code",
   "execution_count": 145,
   "id": "88a81afb-3e0f-43d5-a864-a26e89dbf9dd",
   "metadata": {},
   "outputs": [],
   "source": [
    "import matplotlib.pyplot as plt"
   ]
  },
  {
   "cell_type": "code",
   "execution_count": 146,
   "id": "95443cba-242a-47cb-87ef-b7bdc6029e14",
   "metadata": {},
   "outputs": [],
   "source": [
    "# 1. Move model and data to appropriate device\n",
    "model.eval()\n",
    "X_train_cpu = X_train.to(device)\n",
    "y_train_cpu = y_train.to(device)\n",
    "X_valid_cpu = X_valid.to(device)\n",
    "y_valid_cpu = y_valid.to(device)\n",
    "\n",
    "# 2. Predict outputs\n",
    "with torch.no_grad():\n",
    "    y_train_pred = model(X_train_cpu)\n",
    "    y_valid_pred = model(X_valid_cpu)\n",
    "\n",
    "# 3. Convert to numpy\n",
    "y_train_true = y_train_cpu.cpu().numpy()\n",
    "y_train_pred = y_train_pred.cpu().numpy()\n",
    "y_valid_true = y_valid_cpu.cpu().numpy()\n",
    "y_valid_pred = y_valid_pred.cpu().numpy()"
   ]
  },
  {
   "cell_type": "code",
   "execution_count": 147,
   "id": "8d6460d2-45bd-4a51-8b9a-88f1a6ca1842",
   "metadata": {},
   "outputs": [
    {
     "data": {
      "text/plain": [
       "((3876, 5), (3876, 5), (30, 5), (30, 5))"
      ]
     },
     "execution_count": 147,
     "metadata": {},
     "output_type": "execute_result"
    }
   ],
   "source": [
    "y_train_true.shape, y_train_pred.shape, y_valid_true.shape, y_valid_pred.shape"
   ]
  },
  {
   "cell_type": "code",
   "execution_count": 148,
   "id": "37edb4e3-ba0a-4567-b383-1ef998e2feda",
   "metadata": {},
   "outputs": [],
   "source": [
    "def collect_predictions_per_timestamp(y_pred):\n",
    "    y_pred = np.asarray(y_pred)\n",
    "    n_windows, window = y_pred.shape\n",
    "    \n",
    "\n",
    "    # Store predictions as lists per timestamp\n",
    "    all_preds = [[] for _ in range(n_windows)]\n",
    "\n",
    "    for i in range(n_windows):\n",
    "        for j in range(window):\n",
    "            t = i + j\n",
    "            if t < n_windows and y_pred[i, j] != 0:\n",
    "                all_preds[t].append(y_pred[i, j])\n",
    "\n",
    "    # Pad to length 7 (or fill with NaNs) for consistency\n",
    "    padded_preds = np.full((n_windows, output_size), np.nan)\n",
    "    for t, preds in enumerate(all_preds):\n",
    "        padded_preds[t, :len(preds)] = preds\n",
    "\n",
    "    return padded_preds"
   ]
  },
  {
   "cell_type": "code",
   "execution_count": 149,
   "id": "3026c270-f9fd-42f4-86d6-1f6492fb8938",
   "metadata": {},
   "outputs": [
    {
     "data": {
      "image/png": "[encoded data removed]",
      "text/plain": [
       "<Figure size 1200x500 with 1 Axes>"
      ]
     },
     "metadata": {},
     "output_type": "display_data"
    }
   ],
   "source": [
    "# 4. Plot\n",
    "plt.figure(figsize=(12, 5))\n",
    "\n",
    "# Train and it's target\n",
    "train_end = len(y_train_raw)\n",
    "plt.plot(range(train_end), y_train_raw, label=\"Train Target\", color=\"tab:blue\")\n",
    "\n",
    "train_predicted_avg = collect_predictions_per_timestamp(y_train_pred)\n",
    "plt.plot(range(train_end), np.nanmean(train_predicted_avg, axis=1), label=\"Train Predicted\", color=\"tab:orange\")\n",
    "\n",
    "# Validation and it's target\n",
    "valid_start = train_end+1\n",
    "valid_end = train_end + len(y_valid_raw) + 1 \n",
    "plt.plot(range(valid_start, valid_end), y_valid_raw, label=\"Validation Target\", color=\"tab:blue\")\n",
    "\n",
    "valid_predicted = collect_predictions_per_timestamp(y_valid_pred)\n",
    "plt.plot(range(valid_start, valid_end), np.nanmean(valid_predicted, axis=1), label=\"Validation Predicted\", color=\"brown\")\n",
    "plt.plot(range(valid_start, valid_end), valid_predicted, color=\"gray\", alpha=0.3)\n",
    "\n",
    "plt.axvline(x=train_end, color='gray', linestyle='--', label='Change to validation set')\n",
    "\n",
    "plt.xlim(3700, valid_end+100)\n",
    "plt.ylim(100, 300)\n",
    "\n",
    "plt.legend()\n",
    "plt.show()\n",
    "\n"
   ]
  },
  {
   "cell_type": "code",
   "execution_count": null,
   "id": "24d8da8c-9013-4be9-aff3-b44eceef6e31",
   "metadata": {},
   "outputs": [],
   "source": []
  },
  {
   "cell_type": "code",
   "execution_count": null,
   "id": "57802400-9339-4437-8200-4886ec5c89eb",
   "metadata": {},
   "outputs": [],
   "source": []
  }
 ],
 "metadata": {
  "kernelspec": {
   "display_name": "Python 3 (ipykernel)",
   "language": "python",
   "name": "python3"
  },
  "language_info": {
   "codemirror_mode": {
    "name": "ipython",
    "version": 3
   },
   "file_extension": ".py",
   "mimetype": "text/x-python",
   "name": "python",
   "nbconvert_exporter": "python",
   "pygments_lexer": "ipython3",
   "version": "3.11.13"
  }
 },
 "nbformat": 4,
 "nbformat_minor": 5
}
