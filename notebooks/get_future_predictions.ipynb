{
 "cells": [
  {
   "cell_type": "code",
   "execution_count": 1,
   "id": "aafe39ec-74c8-4391-a5f5-e2faa9dd4aa5",
   "metadata": {},
   "outputs": [],
   "source": [
    "import sys\n",
    "import os\n",
    "current_dir = os.getcwd()\n",
    "parent_dir = os.path.abspath(os.path.join(current_dir, \"..\"))\n",
    "sys.path.append(parent_dir)"
   ]
  },
  {
   "cell_type": "code",
   "execution_count": 2,
   "id": "71a3bd67-4935-49a3-bd32-6577b4f87449",
   "metadata": {},
   "outputs": [],
   "source": [
    "from src.utils.config import load_config"
   ]
  },
  {
   "cell_type": "code",
   "execution_count": 3,
   "id": "2dd4b585-0a2a-4c5d-8e6a-6456cd1ababf",
   "metadata": {},
   "outputs": [],
   "source": [
    "config = load_config()"
   ]
  },
  {
   "cell_type": "code",
   "execution_count": 27,
   "id": "c3fe088b-7b28-4ab9-986c-1de2407f6126",
   "metadata": {},
   "outputs": [
    {
     "data": {
      "text/plain": [
       "{'tickers': {'tickers_list_filename': 'sp500_tickers_list',\n",
       "  'tickers_list_save_path': './metadata/tickers_list/',\n",
       "  'tickers_wikipedia_url': 'https://en.wikipedia.org/wiki/List_of_S%26P_500_companies',\n",
       "  'exclude_tickers': ['GOOG']},\n",
       " 'stock': {'stock_data_start_date': '2010-01-01',\n",
       "  'stock_data_save_path': './data/raw_stocks/',\n",
       "  'stock_data_processed_save_path': './data/processed_data/'},\n",
       " 'configs': {'train_config': './configs/train/train_cfg.yaml',\n",
       "  'eval_config': './configs/evaluation/eval_cfg.yaml',\n",
       "  'deploy_config': './configs/deployment/deployment_cfg.yaml'},\n",
       " 'train_config': {'general': {'device': 'cpu'},\n",
       "  'target': {'target_columns': ['AAPL', 'GOOGL'], 'prediction_window': 7},\n",
       "  'train_test_split': {'validation_size': 30},\n",
       "  'feature_engineering': {'n_lags': 1},\n",
       "  'model': {'architecture': 'FeedforwardRegressor',\n",
       "   'model_params': {'hidden_dim': 512},\n",
       "   'save_path': './models/'},\n",
       "  'optimization': {'loss_fn': 'masked_mse_loss',\n",
       "   'batch_size': 32,\n",
       "   'n_epochs': 100,\n",
       "   'learning_rate': 0.001,\n",
       "   'shuffle': True}},\n",
       " 'eval_config': {'general': {'results_save_path': './results/',\n",
       "   'model_train_results_path': None}},\n",
       " 'deploy_config': {'paths': {'predictions_save_path': './predictions',\n",
       "   'predictions_file': 'predictions.csv',\n",
       "   'predictions_log_file': 'predictions_log.csv'}}}"
      ]
     },
     "execution_count": 27,
     "metadata": {},
     "output_type": "execute_result"
    }
   ],
   "source": [
    "config"
   ]
  },
  {
   "cell_type": "code",
   "execution_count": 4,
   "id": "320b18d4-4059-49d9-ae4d-84f27a025f57",
   "metadata": {},
   "outputs": [],
   "source": [
    "model_name = \"2025_08_01_23_07_42\"\n",
    "model_path = f\".{config['train_config']['model']['save_path']}{model_name}/AAPL\"\n",
    "model_data_date = \"-\".join(model_name.split(\"_\")[:3])\n",
    "data_path = f\"../data/processed_data/{model_data_date}/target_AAPL\""
   ]
  },
  {
   "cell_type": "code",
   "execution_count": 60,
   "id": "0b8edb93-3214-40ee-9d8e-a68e0f8b60cd",
   "metadata": {},
   "outputs": [],
   "source": [
    "from src.inference.predictions import generate_and_save_future_predictions\n",
    "from src.inference.models import get_most_recent_model\n",
    "\n",
    "import torch\n",
    "from pathlib import Path\n",
    "import pandas as pd"
   ]
  },
  {
   "cell_type": "code",
   "execution_count": 70,
   "id": "5431ce65-157f-49ae-80fd-9e445c1586a7",
   "metadata": {},
   "outputs": [],
   "source": [
    "from src.utils.path import get_project_root_path, verify_saving_path\n"
   ]
  },
  {
   "cell_type": "code",
   "execution_count": 73,
   "id": "8b7fc4a2-bbc6-47d1-bad8-75b235559ac0",
   "metadata": {},
   "outputs": [
    {
     "name": "stdout",
     "output_type": "stream",
     "text": [
      "AAPL\n",
      "/opt/airflow/models/2025_08_01_23_07_42/AAPL\n",
      "/opt/airflow/data/processed_data/2025-08-01/target_AAPL\n",
      "/opt/airflow/predictions/AAPL\n",
      "\n",
      "\n",
      "\n",
      "GOOGL\n",
      "/opt/airflow/models/2025_08_01_23_07_42/GOOGL\n",
      "/opt/airflow/data/processed_data/2025-08-01/target_GOOGL\n",
      "/opt/airflow/predictions/GOOGL\n",
      "\n",
      "\n",
      "\n"
     ]
    }
   ],
   "source": [
    "generate_and_save_future_predictions()"
   ]
  }
 ],
 "metadata": {
  "kernelspec": {
   "display_name": "Python 3 (ipykernel)",
   "language": "python",
   "name": "python3"
  },
  "language_info": {
   "codemirror_mode": {
    "name": "ipython",
    "version": 3
   },
   "file_extension": ".py",
   "mimetype": "text/x-python",
   "name": "python",
   "nbconvert_exporter": "python",
   "pygments_lexer": "ipython3",
   "version": "3.10.14"
  }
 },
 "nbformat": 4,
 "nbformat_minor": 5
}
