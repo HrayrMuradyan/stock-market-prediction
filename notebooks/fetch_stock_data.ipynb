{
 "cells": [
  {
   "cell_type": "code",
   "execution_count": 29,
   "id": "ff2fb77c-0e2a-4347-97bb-2a8de97a0306",
   "metadata": {},
   "outputs": [],
   "source": [
    "import json\n",
    "from pathlib import Path\n",
    "from datetime import datetime\n",
    "import yfinance as yf"
   ]
  },
  {
   "cell_type": "code",
   "execution_count": 30,
   "id": "88554837-a06e-4062-94bf-1561dae78fcd",
   "metadata": {},
   "outputs": [],
   "source": [
    "import sys\n",
    "import os\n",
    "\n",
    "current_dir = os.getcwd()\n",
    "parent_dir = os.path.abspath(os.path.join(current_dir, \"..\"))\n",
    "sys.path.append(parent_dir)"
   ]
  },
  {
   "cell_type": "code",
   "execution_count": 31,
   "id": "edc2b7e4-37c5-412a-b6e9-b0770b8055a1",
   "metadata": {},
   "outputs": [],
   "source": [
    "from src.utils.config import load_config\n",
    "from src.data_extractor.tickers import get_most_recent_tickers_file"
   ]
  },
  {
   "cell_type": "code",
   "execution_count": 32,
   "id": "3a2cacb4-e594-43f4-bf6c-b20efc76eb1e",
   "metadata": {},
   "outputs": [],
   "source": [
    "tickers_folder = \"../metadata/tickers_list/\"\n",
    "config_path = \"../configs/main.yaml\""
   ]
  },
  {
   "cell_type": "code",
   "execution_count": 33,
   "id": "eabcd25a-bf33-4f44-86ef-a81fa1f78e73",
   "metadata": {},
   "outputs": [
    {
     "data": {
      "text/plain": [
       "dict_keys(['metadata', 'stock'])"
      ]
     },
     "execution_count": 33,
     "metadata": {},
     "output_type": "execute_result"
    }
   ],
   "source": [
    "config = load_config(config_path)\n",
    "config.keys()"
   ]
  },
  {
   "cell_type": "code",
   "execution_count": 34,
   "id": "259831c8-a3d7-479f-a3b6-40930d081fb5",
   "metadata": {},
   "outputs": [],
   "source": [
    "most_recent_tickers_file = get_most_recent_tickers_file(tickers_folder, config['metadata']['tickers_list_filename'])"
   ]
  },
  {
   "cell_type": "code",
   "execution_count": 35,
   "id": "f47ba135-e9a9-4082-a732-ae2ff75b97bf",
   "metadata": {},
   "outputs": [],
   "source": [
    "with open(most_recent_tickers_file, \"r\") as f:\n",
    "    tickers_list = json.load(f)"
   ]
  },
  {
   "cell_type": "code",
   "execution_count": 36,
   "id": "e9547379-4886-46d5-9e00-cf9f1ff729b9",
   "metadata": {},
   "outputs": [],
   "source": [
    "from src.utils.path import verify_saving_path\n",
    "from src.data_extractor.stocks import download_stock_data, download_and_save_stock_data"
   ]
  },
  {
   "cell_type": "code",
   "execution_count": 37,
   "id": "f8d056f4-7371-4117-a341-6017dd8ce783",
   "metadata": {},
   "outputs": [],
   "source": [
    "exclude_tickers = set(config['metadata']['exclude_tickers'])"
   ]
  },
  {
   "cell_type": "code",
   "execution_count": 39,
   "id": "19f98c64-2a4f-4348-9f24-adaefba823eb",
   "metadata": {},
   "outputs": [
    {
     "name": "stderr",
     "output_type": "stream",
     "text": [
      "[****************      34%                       ]  169 of 502 completed\n",
      "KeyboardInterrupt\n",
      "\n",
      "[*****************     35%                       ]  175 of 502 completed\n",
      "KeyboardInterrupt\n",
      "\n",
      "[**********************54%*                      ]  271 of 502 completed"
     ]
    }
   ],
   "source": [
    "download_and_save_stock_data(tickers_list, \"2010-01-01\", exclude_tickers, data_save_path='./data/')"
   ]
  },
  {
   "cell_type": "code",
   "execution_count": null,
   "id": "37f18d77-a90f-42df-ba18-056c3f4e889c",
   "metadata": {},
   "outputs": [],
   "source": []
  }
 ],
 "metadata": {
  "kernelspec": {
   "display_name": "Python 3 (ipykernel)",
   "language": "python",
   "name": "python3"
  },
  "language_info": {
   "codemirror_mode": {
    "name": "ipython",
    "version": 3
   },
   "file_extension": ".py",
   "mimetype": "text/x-python",
   "name": "python",
   "nbconvert_exporter": "python",
   "pygments_lexer": "ipython3",
   "version": "3.11.13"
  }
 },
 "nbformat": 4,
 "nbformat_minor": 5
}
